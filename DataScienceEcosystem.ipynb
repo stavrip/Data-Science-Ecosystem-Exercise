{
 "cells": [
  {
   "cell_type": "markdown",
   "id": "70298801-1d51-4d9f-81f0-2be9272cc903",
   "metadata": {},
   "source": [
    "# Data Science Tools and Ecosystem "
   ]
  },
  {
   "cell_type": "markdown",
   "id": "054f11ff-8be2-4232-91b9-98675c377a06",
   "metadata": {},
   "source": [
    "In this notebook, Data Science Tools and Ecosystem are summarized."
   ]
  },
  {
   "cell_type": "markdown",
   "id": "2949f2d0-a10c-4cd0-b0f8-e256b8e29b2b",
   "metadata": {},
   "source": [
    "\n",
    "Some of the popular languages that Data Scientists use are:"
   ]
  },
  {
   "cell_type": "markdown",
   "id": "69cde874-caf9-4d27-8aa5-7eaf0830634e",
   "metadata": {
    "tags": []
   },
   "source": [
    "1. Python\n",
    "2. RStudio\n",
    "3. SQL"
   ]
  },
  {
   "cell_type": "markdown",
   "id": "7fb7f666-6047-4bdb-9216-f0777e6071dc",
   "metadata": {},
   "source": [
    "Some of the commonly used libraries used by Data Scientists include:\n",
    "\n",
    "1. Matplotlib \n",
    "2. Seaborn\n",
    "3. Scikit-learn"
   ]
  },
  {
   "cell_type": "markdown",
   "id": "b1a56f73-31e5-45ec-a478-c50d540f3804",
   "metadata": {},
   "source": [
    "| Data Science Tools |\n",
    "|:--------:|\n",
    "|  CodePen   |\n",
    "|  Pytorch  |\n",
    "|  Jupyter Notebooks  | "
   ]
  },
  {
   "cell_type": "markdown",
   "id": "2f73d532-f781-4bdf-a353-5ce0704f8e47",
   "metadata": {},
   "source": [
    "### Below are a few examples of evaluating arithmetic expressions in Python."
   ]
  },
  {
   "cell_type": "code",
   "execution_count": 6,
   "id": "ddf6195b-694d-4a4f-87ca-b355d437302e",
   "metadata": {
    "tags": []
   },
   "outputs": [
    {
     "data": {
      "text/plain": [
       "17"
      ]
     },
     "execution_count": 6,
     "metadata": {},
     "output_type": "execute_result"
    }
   ],
   "source": [
    "# This a simple arithmetic expression to mutiply then add integers\n",
    "(3*4)+5"
   ]
  },
  {
   "cell_type": "code",
   "execution_count": 10,
   "id": "fa7bdcef-2a31-4111-a3ea-339b5cece831",
   "metadata": {
    "tags": []
   },
   "outputs": [
    {
     "data": {
      "text/plain": [
       "(3, 20)"
      ]
     },
     "execution_count": 10,
     "metadata": {},
     "output_type": "execute_result"
    }
   ],
   "source": [
    "#This will convert 200 minutes to hours by diving by 60\n",
    "divmod(200, 60)"
   ]
  },
  {
   "cell_type": "markdown",
   "id": "0f385813-12fb-4fb6-9c6a-d18f9137da14",
   "metadata": {},
   "source": [
    "**Objectives:**\n",
    "\n",
    "* Popular languages for Data Science\n",
    "* Commonly used libraries used by Data Scientists\n",
    "* Data Science Tools"
   ]
  },
  {
   "cell_type": "markdown",
   "id": "c2268e79-aff0-43c9-b76d-f63ceb0bf7d6",
   "metadata": {},
   "source": [
    "## Author"
   ]
  },
  {
   "cell_type": "markdown",
   "id": "d2d1e863-5f81-44e6-99bb-08bd8ace8818",
   "metadata": {},
   "source": [
    "Stavri Papagapiou"
   ]
  },
  {
   "cell_type": "code",
   "execution_count": null,
   "id": "dd216176-1a3c-4da3-8ac8-2f17e7e4c5b9",
   "metadata": {},
   "outputs": [],
   "source": []
  }
 ],
 "metadata": {
  "kernelspec": {
   "display_name": "Python",
   "language": "python",
   "name": "conda-env-python-py"
  },
  "language_info": {
   "codemirror_mode": {
    "name": "ipython",
    "version": 3
   },
   "file_extension": ".py",
   "mimetype": "text/x-python",
   "name": "python",
   "nbconvert_exporter": "python",
   "pygments_lexer": "ipython3",
   "version": "3.7.12"
  }
 },
 "nbformat": 4,
 "nbformat_minor": 5
}
